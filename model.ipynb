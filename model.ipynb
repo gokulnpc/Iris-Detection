{
 "cells": [
  {
   "cell_type": "markdown",
   "metadata": {},
   "source": [
    "# Setup"
   ]
  },
  {
   "cell_type": "code",
   "execution_count": 1,
   "metadata": {},
   "outputs": [],
   "source": [
    "import os\n",
    "import cv2\n",
    "import tensorflow as tf\n",
    "import numpy as np\n",
    "import json\n",
    "import matplotlib.pyplot as plt"
   ]
  },
  {
   "cell_type": "code",
   "execution_count": 2,
   "metadata": {},
   "outputs": [],
   "source": [
    "import albumentations as alb"
   ]
  },
  {
   "cell_type": "markdown",
   "metadata": {},
   "source": [
    "# Loading Data"
   ]
  },
  {
   "cell_type": "code",
   "execution_count": 3,
   "metadata": {},
   "outputs": [],
   "source": [
    "# !labelme"
   ]
  },
  {
   "cell_type": "code",
   "execution_count": 4,
   "metadata": {},
   "outputs": [],
   "source": [
    "# for folder in ['train','test','val']:\n",
    "#     for file in os.listdir(os.path.join('data', folder, 'images')):\n",
    "        \n",
    "#         filename = file.split('.')[0]+'.json'\n",
    "#         existing_filepath = os.path.join('data','labels', filename)\n",
    "#         if os.path.exists(existing_filepath): \n",
    "#             new_filepath = os.path.join('data',folder,'labels',filename)\n",
    "#             os.replace(existing_filepath, new_filepath) "
   ]
  },
  {
   "cell_type": "code",
   "execution_count": 5,
   "metadata": {},
   "outputs": [],
   "source": [
    "# augmentor = alb.Compose([alb.RandomCrop(width=450, height=450), \n",
    "#                          alb.HorizontalFlip(p=0.5), \n",
    "#                          alb.RandomBrightnessContrast(p=0.2),\n",
    "#                          alb.RandomGamma(p=0.2), \n",
    "#                          alb.RGBShift(p=0.2), \n",
    "#                          alb.VerticalFlip(p=0.5)], \n",
    "#                         keypoint_params=alb.KeypointParams(format='xy', label_fields=['class_labels']))"
   ]
  },
  {
   "cell_type": "code",
   "execution_count": 6,
   "metadata": {},
   "outputs": [],
   "source": [
    "# for partition in ['train', 'test', 'val']: \n",
    "#     for image in os.listdir(os.path.join('data', partition, 'images')):\n",
    "#         img = cv2.imread(os.path.join('data', partition, 'images', image))\n",
    "\n",
    "#         classes = [0,0]\n",
    "#         coords = [0,0,0.00001,0.00001]\n",
    "#         label_path = os.path.join('data', partition, 'labels', f'{image.split(\".\")[0]}.json')\n",
    "#         if os.path.exists(label_path):\n",
    "#             with open(label_path, 'r') as f:\n",
    "#                 label = json.load(f)\n",
    "    \n",
    "#             if label['shapes'][0]['label']=='LeftEye': \n",
    "#                 classes[0] = 1\n",
    "#                 coords[0] = np.squeeze(label['shapes'][0]['points'])[0]\n",
    "#                 coords[1] = np.squeeze(label['shapes'][0]['points'])[1]\n",
    "\n",
    "#             if label['shapes'][0]['label']=='RightEye':\n",
    "#                 classes[1] = 1\n",
    "#                 coords[2] = np.squeeze(label['shapes'][0]['points'])[0]\n",
    "#                 coords[3] = np.squeeze(label['shapes'][0]['points'])[1]\n",
    "\n",
    "#             if len(label['shapes']) > 1:     \n",
    "#                 if label['shapes'][1]['label'] =='LeftEye': \n",
    "#                     classes[0] = 1 \n",
    "#                     coords[0] = np.squeeze(label['shapes'][1]['points'])[0]\n",
    "#                     coords[1] = np.squeeze(label['shapes'][1]['points'])[1]\n",
    "\n",
    "#                 if label['shapes'][1]['label'] =='RightEye': \n",
    "#                     classes[1] = 1\n",
    "#                     coords[2] = np.squeeze(label['shapes'][1]['points'])[0]\n",
    "#                     coords[3] = np.squeeze(label['shapes'][1]['points'])[1]\n",
    "            \n",
    "#             np.divide(coords, [640,480,640,480])\n",
    "        \n",
    "#         try: \n",
    "#             for x in range(120):\n",
    "#                 keypoints = [(coords[:2]), (coords[2:])]\n",
    "                \n",
    "#                 augmented = augmentor(image=img, keypoints=keypoints, class_labels=['LeftEye','RightEye'])\n",
    "                \n",
    "#                 cv2.imwrite(os.path.join('aug_data', partition, 'images', f'{image.split(\".\")[0]}.{x}.jpg'), augmented['image'])\n",
    "                \n",
    "#                 annotation = {}\n",
    "#                 annotation['image'] = image\n",
    "#                 annotation['class'] = [0,0]\n",
    "#                 annotation['keypoints'] = [0,0,0,0]\n",
    "\n",
    "#                 if os.path.exists(label_path):\n",
    "#                     if len(augmented['keypoints']) > 0: \n",
    "#                         for idx, cl in enumerate(augmented['class_labels']):\n",
    "#                             if cl == 'LeftEye': \n",
    "#                                 annotation['class'][0] = 1 \n",
    "#                                 annotation['keypoints'][0] = augmented['keypoints'][idx][0]\n",
    "#                                 annotation['keypoints'][1] = augmented['keypoints'][idx][1]\n",
    "#                             if cl == 'RightEye': \n",
    "#                                 annotation['class'][1] = 1 \n",
    "#                                 annotation['keypoints'][2] = augmented['keypoints'][idx][0]\n",
    "#                                 annotation['keypoints'][3] = augmented['keypoints'][idx][1]\n",
    "                                \n",
    "#                 annotation['keypoints'] = list(np.divide(annotation['keypoints'], [450,450,450,450]))\n",
    "\n",
    "\n",
    "#                 with open(os.path.join('aug_data', partition, 'labels', f'{image.split(\".\")[0]}.{x}.json'), 'w') as f:\n",
    "#                     json.dump(annotation, f)\n",
    "\n",
    "#         except Exception as e:\n",
    "#             print(\"error\")"
   ]
  },
  {
   "cell_type": "code",
   "execution_count": 7,
   "metadata": {},
   "outputs": [],
   "source": [
    "def load_image(path):\n",
    "    img = tf.io.read_file(path)\n",
    "    img = tf.io.decode_jpeg(img)\n",
    "    return img"
   ]
  },
  {
   "cell_type": "code",
   "execution_count": 35,
   "metadata": {},
   "outputs": [],
   "source": [
    "train_images = tf.data.Dataset.list_files('aug_data\\\\train\\\\images\\\\*.jpg', shuffle=False)\n",
    "train_images = train_images.map(load_image)\n",
    "train_images = train_images.map(lambda x: tf.image.resize(x, (250,250)))\n",
    "train_images = train_images.map(lambda x: x/255)"
   ]
  },
  {
   "cell_type": "code",
   "execution_count": 36,
   "metadata": {},
   "outputs": [],
   "source": [
    "test_images = tf.data.Dataset.list_files('aug_data\\\\test\\\\images\\\\*.jpg', shuffle=False)\n",
    "test_images = test_images.map(load_image)\n",
    "test_images = test_images.map(lambda x: tf.image.resize(x, (250,250)))\n",
    "test_images = test_images.map(lambda x: x/255)"
   ]
  },
  {
   "cell_type": "code",
   "execution_count": 37,
   "metadata": {},
   "outputs": [],
   "source": [
    "val_images = tf.data.Dataset.list_files('aug_data\\\\val\\\\images\\\\*.jpg', shuffle=False)\n",
    "val_images = val_images.map(load_image)\n",
    "val_images = val_images.map(lambda x: tf.image.resize(x, (250,250)))\n",
    "val_images = val_images.map(lambda x: x/255)"
   ]
  },
  {
   "cell_type": "code",
   "execution_count": 38,
   "metadata": {},
   "outputs": [],
   "source": [
    "def load_labels(label_path):\n",
    "    with open(label_path.numpy(), 'r', encoding = \"utf-8\") as f:\n",
    "        label = json.load(f)\n",
    "    return [label['keypoints']]"
   ]
  },
  {
   "cell_type": "code",
   "execution_count": 39,
   "metadata": {},
   "outputs": [],
   "source": [
    "train_labels = tf.data.Dataset.list_files('aug_data\\\\train\\\\labels\\\\*.json', shuffle=False)\n",
    "train_labels = train_labels.map(lambda x: tf.py_function(load_labels, [x], [tf.float16]))"
   ]
  },
  {
   "cell_type": "code",
   "execution_count": 40,
   "metadata": {},
   "outputs": [],
   "source": [
    "test_labels = tf.data.Dataset.list_files('aug_data\\\\test\\\\labels\\\\*.json', shuffle=False)\n",
    "test_labels = test_labels.map(lambda x: tf.py_function(load_labels, [x], [tf.float16]))"
   ]
  },
  {
   "cell_type": "code",
   "execution_count": 41,
   "metadata": {},
   "outputs": [],
   "source": [
    "val_labels = tf.data.Dataset.list_files('aug_data\\\\val\\\\labels\\\\*.json', shuffle=False)\n",
    "val_labels = val_labels.map(lambda x: tf.py_function(load_labels, [x], [tf.float16]))"
   ]
  },
  {
   "cell_type": "code",
   "execution_count": 42,
   "metadata": {},
   "outputs": [],
   "source": [
    "train = tf.data.Dataset.zip((train_images, train_labels))\n",
    "train = train.shuffle(5000)\n",
    "train = train.batch(16)\n",
    "train = train.prefetch(4)"
   ]
  },
  {
   "cell_type": "code",
   "execution_count": 43,
   "metadata": {},
   "outputs": [],
   "source": [
    "test = tf.data.Dataset.zip((test_images, test_labels))\n",
    "test = test.shuffle(1300)\n",
    "test = test.batch(16)\n",
    "test = test.prefetch(4)"
   ]
  },
  {
   "cell_type": "code",
   "execution_count": 44,
   "metadata": {},
   "outputs": [],
   "source": [
    "val = tf.data.Dataset.zip((val_images, val_labels))\n",
    "val = val.shuffle(1000)\n",
    "val = val.batch(16)\n",
    "val = val.prefetch(4)"
   ]
  },
  {
   "cell_type": "code",
   "execution_count": 45,
   "metadata": {},
   "outputs": [],
   "source": [
    "arr = train.as_numpy_iterator().next()"
   ]
  },
  {
   "cell_type": "code",
   "execution_count": 46,
   "metadata": {},
   "outputs": [
    {
     "data": {
      "text/plain": [
       "((16, 250, 250, 3), 16)"
      ]
     },
     "execution_count": 46,
     "metadata": {},
     "output_type": "execute_result"
    }
   ],
   "source": [
    "X, y = train.as_numpy_iterator().next()\n",
    "(X.shape, len(y[0]))"
   ]
  },
  {
   "cell_type": "code",
   "execution_count": 47,
   "metadata": {},
   "outputs": [
    {
     "data": {
      "text/plain": [
       "<_TakeDataset element_spec=(TensorSpec(shape=(None, 250, 250, None), dtype=tf.float32, name=None), (TensorSpec(shape=<unknown>, dtype=tf.float16, name=None),))>"
      ]
     },
     "execution_count": 47,
     "metadata": {},
     "output_type": "execute_result"
    }
   ],
   "source": [
    "train.take(1)"
   ]
  },
  {
   "cell_type": "code",
   "execution_count": 48,
   "metadata": {},
   "outputs": [],
   "source": [
    "train = train.map(lambda x, y: (x, tf.reshape(y, (-1, 4))))\n",
    "test = test.map(lambda x, y: (x, tf.reshape(y, (-1, 4))))\n",
    "val = val.map(lambda x, y: (x, tf.reshape(y, (-1, 4))))"
   ]
  },
  {
   "cell_type": "code",
   "execution_count": 49,
   "metadata": {},
   "outputs": [
    {
     "data": {
      "text/plain": [
       "<_TakeDataset element_spec=(TensorSpec(shape=(None, 250, 250, None), dtype=tf.float32, name=None), TensorSpec(shape=(None, 4), dtype=tf.float16, name=None))>"
      ]
     },
     "execution_count": 49,
     "metadata": {},
     "output_type": "execute_result"
    }
   ],
   "source": [
    "train.take(1)"
   ]
  },
  {
   "cell_type": "code",
   "execution_count": 63,
   "metadata": {},
   "outputs": [],
   "source": [
    "arr = train.as_numpy_iterator().next()"
   ]
  },
  {
   "cell_type": "code",
   "execution_count": 72,
   "metadata": {},
   "outputs": [
    {
     "data": {
      "text/plain": [
       "250"
      ]
     },
     "execution_count": 72,
     "metadata": {},
     "output_type": "execute_result"
    }
   ],
   "source": [
    "len(arr[0][0])"
   ]
  },
  {
   "cell_type": "code",
   "execution_count": 87,
   "metadata": {},
   "outputs": [
    {
     "data": {
      "text/plain": [
       "array([-17.110004 ,   1.7653855,  20.134602 ,   2.2607226], dtype=float32)"
      ]
     },
     "execution_count": 87,
     "metadata": {},
     "output_type": "execute_result"
    }
   ],
   "source": [
    "arr[1]"
   ]
  },
  {
   "cell_type": "code",
   "execution_count": 78,
   "metadata": {},
   "outputs": [
    {
     "name": "stderr",
     "output_type": "stream",
     "text": [
      "Clipping input data to the valid range for imshow with RGB data ([0..1] for floats or [0..255] for integers).\n"
     ]
    },
    {
     "data": {
      "image/png": "[encoded data removed]",
      "text/plain": [
       "<Figure size 640x480 with 1 Axes>"
      ]
     },
     "metadata": {},
     "output_type": "display_data"
    }
   ],
   "source": [
    "id = 5\n",
    "\n",
    "x1 = arr[1][id][0]\n",
    "y1 = arr[1][id][1]\n",
    "x2 = arr[1][id][2]\n",
    "y2 = arr[1][id][3]\n",
    "\n",
    "\n",
    "# Create a copy of the image array\n",
    "img_copy = arr[0][id].copy()\n",
    "\n",
    "# Draw circle on the copy of the image\n",
    "cv2.circle(img_copy, (int(x1*250), int(y1*250)), 5, (0,255,0), -1)\n",
    "cv2.circle(img_copy, (int(x2*250), int(y2*250)), 5, (0,255,0), -1)\n",
    "# Display the image\n",
    "plt.imshow(img_copy)\n",
    "plt.show()\n"
   ]
  },
  {
   "cell_type": "markdown",
   "metadata": {},
   "source": [
    "# Build Model"
   ]
  },
  {
   "cell_type": "code",
   "execution_count": 24,
   "metadata": {},
   "outputs": [],
   "source": [
    "from tensorflow.keras.models import Sequential\n",
    "from tensorflow.keras.layers import Input, Conv2D, Reshape, Dropout\n",
    "from tensorflow.keras.applications import ResNet152V2"
   ]
  },
  {
   "cell_type": "code",
   "execution_count": 95,
   "metadata": {},
   "outputs": [],
   "source": [
    "model = Sequential([\n",
    "    Input(shape=(250,250,3)), \n",
    "    ResNet152V2(include_top=False, input_shape=(250,250,3)), \n",
    "    Conv2D(512, 3, padding='same', activation='relu'),\n",
    "    Conv2D(512, 3, padding='same', activation='relu'),\n",
    "    Conv2D(256, 3, 2, padding='same', activation='relu'), # 3 is no fo filters, 2 is stride\n",
    "    Conv2D(256, 2, 2, activation='relu'),\n",
    "    Dropout(0.05),\n",
    "    Conv2D(4, 2, 2),\n",
    "    Reshape((4,))\n",
    "])"
   ]
  },
  {
   "cell_type": "code",
   "execution_count": 96,
   "metadata": {},
   "outputs": [
    {
     "data": {
      "text/html": [
       "<pre style=\"white-space:pre;overflow-x:auto;line-height:normal;font-family:Menlo,'DejaVu Sans Mono',consolas,'Courier New',monospace\"><span style=\"font-weight: bold\">Model: \"sequential_3\"</span>\n",
       "</pre>\n"
      ],
      "text/plain": [
       "\u001b[1mModel: \"sequential_3\"\u001b[0m\n"
      ]
     },
     "metadata": {},
     "output_type": "display_data"
    },
    {
     "data": {
      "text/html": [
       "<pre style=\"white-space:pre;overflow-x:auto;line-height:normal;font-family:Menlo,'DejaVu Sans Mono',consolas,'Courier New',monospace\">┏━━━━━━━━━━━━━━━━━━━━━━━━━━━━━━━━━┳━━━━━━━━━━━━━━━━━━━━━━━━┳━━━━━━━━━━━━━━━┓\n",
       "┃<span style=\"font-weight: bold\"> Layer (type)                    </span>┃<span style=\"font-weight: bold\"> Output Shape           </span>┃<span style=\"font-weight: bold\">       Param # </span>┃\n",
       "┡━━━━━━━━━━━━━━━━━━━━━━━━━━━━━━━━━╇━━━━━━━━━━━━━━━━━━━━━━━━╇━━━━━━━━━━━━━━━┩\n",
       "│ resnet152v2 (<span style=\"color: #0087ff; text-decoration-color: #0087ff\">Functional</span>)        │ (<span style=\"color: #00d7ff; text-decoration-color: #00d7ff\">None</span>, <span style=\"color: #00af00; text-decoration-color: #00af00\">8</span>, <span style=\"color: #00af00; text-decoration-color: #00af00\">8</span>, <span style=\"color: #00af00; text-decoration-color: #00af00\">2048</span>)     │    <span style=\"color: #00af00; text-decoration-color: #00af00\">58,331,648</span> │\n",
       "├─────────────────────────────────┼────────────────────────┼───────────────┤\n",
       "│ conv2d_20 (<span style=\"color: #0087ff; text-decoration-color: #0087ff\">Conv2D</span>)              │ (<span style=\"color: #00d7ff; text-decoration-color: #00d7ff\">None</span>, <span style=\"color: #00af00; text-decoration-color: #00af00\">8</span>, <span style=\"color: #00af00; text-decoration-color: #00af00\">8</span>, <span style=\"color: #00af00; text-decoration-color: #00af00\">512</span>)      │     <span style=\"color: #00af00; text-decoration-color: #00af00\">9,437,696</span> │\n",
       "├─────────────────────────────────┼────────────────────────┼───────────────┤\n",
       "│ conv2d_21 (<span style=\"color: #0087ff; text-decoration-color: #0087ff\">Conv2D</span>)              │ (<span style=\"color: #00d7ff; text-decoration-color: #00d7ff\">None</span>, <span style=\"color: #00af00; text-decoration-color: #00af00\">8</span>, <span style=\"color: #00af00; text-decoration-color: #00af00\">8</span>, <span style=\"color: #00af00; text-decoration-color: #00af00\">512</span>)      │     <span style=\"color: #00af00; text-decoration-color: #00af00\">2,359,808</span> │\n",
       "├─────────────────────────────────┼────────────────────────┼───────────────┤\n",
       "│ conv2d_22 (<span style=\"color: #0087ff; text-decoration-color: #0087ff\">Conv2D</span>)              │ (<span style=\"color: #00d7ff; text-decoration-color: #00d7ff\">None</span>, <span style=\"color: #00af00; text-decoration-color: #00af00\">4</span>, <span style=\"color: #00af00; text-decoration-color: #00af00\">4</span>, <span style=\"color: #00af00; text-decoration-color: #00af00\">256</span>)      │     <span style=\"color: #00af00; text-decoration-color: #00af00\">1,179,904</span> │\n",
       "├─────────────────────────────────┼────────────────────────┼───────────────┤\n",
       "│ conv2d_23 (<span style=\"color: #0087ff; text-decoration-color: #0087ff\">Conv2D</span>)              │ (<span style=\"color: #00d7ff; text-decoration-color: #00d7ff\">None</span>, <span style=\"color: #00af00; text-decoration-color: #00af00\">2</span>, <span style=\"color: #00af00; text-decoration-color: #00af00\">2</span>, <span style=\"color: #00af00; text-decoration-color: #00af00\">256</span>)      │       <span style=\"color: #00af00; text-decoration-color: #00af00\">262,400</span> │\n",
       "├─────────────────────────────────┼────────────────────────┼───────────────┤\n",
       "│ dropout_4 (<span style=\"color: #0087ff; text-decoration-color: #0087ff\">Dropout</span>)             │ (<span style=\"color: #00d7ff; text-decoration-color: #00d7ff\">None</span>, <span style=\"color: #00af00; text-decoration-color: #00af00\">2</span>, <span style=\"color: #00af00; text-decoration-color: #00af00\">2</span>, <span style=\"color: #00af00; text-decoration-color: #00af00\">256</span>)      │             <span style=\"color: #00af00; text-decoration-color: #00af00\">0</span> │\n",
       "├─────────────────────────────────┼────────────────────────┼───────────────┤\n",
       "│ conv2d_24 (<span style=\"color: #0087ff; text-decoration-color: #0087ff\">Conv2D</span>)              │ (<span style=\"color: #00d7ff; text-decoration-color: #00d7ff\">None</span>, <span style=\"color: #00af00; text-decoration-color: #00af00\">1</span>, <span style=\"color: #00af00; text-decoration-color: #00af00\">1</span>, <span style=\"color: #00af00; text-decoration-color: #00af00\">4</span>)        │         <span style=\"color: #00af00; text-decoration-color: #00af00\">4,100</span> │\n",
       "├─────────────────────────────────┼────────────────────────┼───────────────┤\n",
       "│ reshape_4 (<span style=\"color: #0087ff; text-decoration-color: #0087ff\">Reshape</span>)             │ (<span style=\"color: #00d7ff; text-decoration-color: #00d7ff\">None</span>, <span style=\"color: #00af00; text-decoration-color: #00af00\">4</span>)              │             <span style=\"color: #00af00; text-decoration-color: #00af00\">0</span> │\n",
       "└─────────────────────────────────┴────────────────────────┴───────────────┘\n",
       "</pre>\n"
      ],
      "text/plain": [
       "┏━━━━━━━━━━━━━━━━━━━━━━━━━━━━━━━━━┳━━━━━━━━━━━━━━━━━━━━━━━━┳━━━━━━━━━━━━━━━┓\n",
       "┃\u001b[1m \u001b[0m\u001b[1mLayer (type)                   \u001b[0m\u001b[1m \u001b[0m┃\u001b[1m \u001b[0m\u001b[1mOutput Shape          \u001b[0m\u001b[1m \u001b[0m┃\u001b[1m \u001b[0m\u001b[1m      Param #\u001b[0m\u001b[1m \u001b[0m┃\n",
       "┡━━━━━━━━━━━━━━━━━━━━━━━━━━━━━━━━━╇━━━━━━━━━━━━━━━━━━━━━━━━╇━━━━━━━━━━━━━━━┩\n",
       "│ resnet152v2 (\u001b[38;5;33mFunctional\u001b[0m)        │ (\u001b[38;5;45mNone\u001b[0m, \u001b[38;5;34m8\u001b[0m, \u001b[38;5;34m8\u001b[0m, \u001b[38;5;34m2048\u001b[0m)     │    \u001b[38;5;34m58,331,648\u001b[0m │\n",
       "├─────────────────────────────────┼────────────────────────┼───────────────┤\n",
       "│ conv2d_20 (\u001b[38;5;33mConv2D\u001b[0m)              │ (\u001b[38;5;45mNone\u001b[0m, \u001b[38;5;34m8\u001b[0m, \u001b[38;5;34m8\u001b[0m, \u001b[38;5;34m512\u001b[0m)      │     \u001b[38;5;34m9,437,696\u001b[0m │\n",
       "├─────────────────────────────────┼────────────────────────┼───────────────┤\n",
       "│ conv2d_21 (\u001b[38;5;33mConv2D\u001b[0m)              │ (\u001b[38;5;45mNone\u001b[0m, \u001b[38;5;34m8\u001b[0m, \u001b[38;5;34m8\u001b[0m, \u001b[38;5;34m512\u001b[0m)      │     \u001b[38;5;34m2,359,808\u001b[0m │\n",
       "├─────────────────────────────────┼────────────────────────┼───────────────┤\n",
       "│ conv2d_22 (\u001b[38;5;33mConv2D\u001b[0m)              │ (\u001b[38;5;45mNone\u001b[0m, \u001b[38;5;34m4\u001b[0m, \u001b[38;5;34m4\u001b[0m, \u001b[38;5;34m256\u001b[0m)      │     \u001b[38;5;34m1,179,904\u001b[0m │\n",
       "├─────────────────────────────────┼────────────────────────┼───────────────┤\n",
       "│ conv2d_23 (\u001b[38;5;33mConv2D\u001b[0m)              │ (\u001b[38;5;45mNone\u001b[0m, \u001b[38;5;34m2\u001b[0m, \u001b[38;5;34m2\u001b[0m, \u001b[38;5;34m256\u001b[0m)      │       \u001b[38;5;34m262,400\u001b[0m │\n",
       "├─────────────────────────────────┼────────────────────────┼───────────────┤\n",
       "│ dropout_4 (\u001b[38;5;33mDropout\u001b[0m)             │ (\u001b[38;5;45mNone\u001b[0m, \u001b[38;5;34m2\u001b[0m, \u001b[38;5;34m2\u001b[0m, \u001b[38;5;34m256\u001b[0m)      │             \u001b[38;5;34m0\u001b[0m │\n",
       "├─────────────────────────────────┼────────────────────────┼───────────────┤\n",
       "│ conv2d_24 (\u001b[38;5;33mConv2D\u001b[0m)              │ (\u001b[38;5;45mNone\u001b[0m, \u001b[38;5;34m1\u001b[0m, \u001b[38;5;34m1\u001b[0m, \u001b[38;5;34m4\u001b[0m)        │         \u001b[38;5;34m4,100\u001b[0m │\n",
       "├─────────────────────────────────┼────────────────────────┼───────────────┤\n",
       "│ reshape_4 (\u001b[38;5;33mReshape\u001b[0m)             │ (\u001b[38;5;45mNone\u001b[0m, \u001b[38;5;34m4\u001b[0m)              │             \u001b[38;5;34m0\u001b[0m │\n",
       "└─────────────────────────────────┴────────────────────────┴───────────────┘\n"
      ]
     },
     "metadata": {},
     "output_type": "display_data"
    },
    {
     "data": {
      "text/html": [
       "<pre style=\"white-space:pre;overflow-x:auto;line-height:normal;font-family:Menlo,'DejaVu Sans Mono',consolas,'Courier New',monospace\"><span style=\"font-weight: bold\"> Total params: </span><span style=\"color: #00af00; text-decoration-color: #00af00\">71,575,556</span> (273.04 MB)\n",
       "</pre>\n"
      ],
      "text/plain": [
       "\u001b[1m Total params: \u001b[0m\u001b[38;5;34m71,575,556\u001b[0m (273.04 MB)\n"
      ]
     },
     "metadata": {},
     "output_type": "display_data"
    },
    {
     "data": {
      "text/html": [
       "<pre style=\"white-space:pre;overflow-x:auto;line-height:normal;font-family:Menlo,'DejaVu Sans Mono',consolas,'Courier New',monospace\"><span style=\"font-weight: bold\"> Trainable params: </span><span style=\"color: #00af00; text-decoration-color: #00af00\">71,431,812</span> (272.49 MB)\n",
       "</pre>\n"
      ],
      "text/plain": [
       "\u001b[1m Trainable params: \u001b[0m\u001b[38;5;34m71,431,812\u001b[0m (272.49 MB)\n"
      ]
     },
     "metadata": {},
     "output_type": "display_data"
    },
    {
     "data": {
      "text/html": [
       "<pre style=\"white-space:pre;overflow-x:auto;line-height:normal;font-family:Menlo,'DejaVu Sans Mono',consolas,'Courier New',monospace\"><span style=\"font-weight: bold\"> Non-trainable params: </span><span style=\"color: #00af00; text-decoration-color: #00af00\">143,744</span> (561.50 KB)\n",
       "</pre>\n"
      ],
      "text/plain": [
       "\u001b[1m Non-trainable params: \u001b[0m\u001b[38;5;34m143,744\u001b[0m (561.50 KB)\n"
      ]
     },
     "metadata": {},
     "output_type": "display_data"
    }
   ],
   "source": [
    "model.summary()"
   ]
  },
  {
   "cell_type": "code",
   "execution_count": 30,
   "metadata": {},
   "outputs": [],
   "source": [
    "optimizer = tf.keras.optimizers.Adam(learning_rate=0.001)\n",
    "loss = tf.keras.losses.MeanSquaredError()"
   ]
  },
  {
   "cell_type": "code",
   "execution_count": 31,
   "metadata": {},
   "outputs": [],
   "source": [
    "model.compile(optimizer, loss)"
   ]
  },
  {
   "cell_type": "code",
   "execution_count": 23,
   "metadata": {},
   "outputs": [],
   "source": [
    "X, y = train.as_numpy_iterator().next()"
   ]
  },
  {
   "cell_type": "code",
   "execution_count": 24,
   "metadata": {},
   "outputs": [
    {
     "data": {
      "text/plain": [
       "(16, 250, 250, 3)"
      ]
     },
     "execution_count": 24,
     "metadata": {},
     "output_type": "execute_result"
    }
   ],
   "source": [
    "X.shape"
   ]
  },
  {
   "cell_type": "code",
   "execution_count": 35,
   "metadata": {},
   "outputs": [
    {
     "name": "stdout",
     "output_type": "stream",
     "text": [
      "\u001b[1m1/1\u001b[0m \u001b[32m━━━━━━━━━━━━━━━━━━━━\u001b[0m\u001b[37m\u001b[0m \u001b[1m14s\u001b[0m 14s/step\n"
     ]
    }
   ],
   "source": [
    "coords = model.predict(X)"
   ]
  },
  {
   "cell_type": "code",
   "execution_count": 36,
   "metadata": {},
   "outputs": [
    {
     "data": {
      "text/plain": [
       "array([[-1.0988334 , -0.937139  ,  0.5785758 ,  0.27695236],\n",
       "       [-0.7272629 , -0.44095582,  0.20529863, -0.27524528],\n",
       "       [-0.2461952 , -0.3703966 ,  0.13017589, -0.5925369 ],\n",
       "       [-0.00965458, -0.65196574,  0.9950286 , -0.26375932],\n",
       "       [ 0.09582379, -0.1868813 ,  0.13292393, -0.7039585 ],\n",
       "       [-0.4830139 , -0.04267436,  0.847854  ,  0.5200611 ],\n",
       "       [-0.32765582, -0.12800148,  0.20912513, -0.04420267],\n",
       "       [-0.47795886, -0.34116483,  1.0996372 , -0.36462688],\n",
       "       [-0.2814325 , -0.40179312,  0.22091725, -0.15861598],\n",
       "       [-0.07606329, -0.4430104 ,  0.13714164,  0.08022345],\n",
       "       [-0.07747319, -0.4593302 ,  0.26569366, -0.72026086],\n",
       "       [-0.4006468 , -0.7264511 ,  0.23174149, -0.01971495],\n",
       "       [-0.25949886,  0.5846646 ,  1.2204876 , -0.1958426 ],\n",
       "       [-0.21981978, -0.279512  ,  0.7848282 ,  0.54583466],\n",
       "       [-0.8699641 , -0.33530238, -0.37093082, -0.3704263 ],\n",
       "       [-0.20787352, -0.77044797, -0.17059484,  0.16874331]],\n",
       "      dtype=float32)"
      ]
     },
     "execution_count": 36,
     "metadata": {},
     "output_type": "execute_result"
    }
   ],
   "source": [
    "coords"
   ]
  },
  {
   "cell_type": "markdown",
   "metadata": {},
   "source": [
    "# Training"
   ]
  },
  {
   "cell_type": "code",
   "execution_count": 52,
   "metadata": {},
   "outputs": [],
   "source": [
    "model.compile(loss='mean_squared_error', optimizer='adam')"
   ]
  },
  {
   "cell_type": "code",
   "execution_count": 53,
   "metadata": {},
   "outputs": [
    {
     "name": "stdout",
     "output_type": "stream",
     "text": [
      "\u001b[1m1/1\u001b[0m \u001b[32m━━━━━━━━━━━━━━━━━━━━\u001b[0m\u001b[37m\u001b[0m \u001b[1m787s\u001b[0m 787s/step - loss: 0.4698 - val_loss: 111.1371\n"
     ]
    }
   ],
   "source": [
    "# hist = model.fit(train.take, epochs=20, validation_data=val) -> run this to get good model\n",
    "hist = model.fit(train.take(1), epochs=1, validation_data=val)"
   ]
  },
  {
   "cell_type": "code",
   "execution_count": 54,
   "metadata": {},
   "outputs": [
    {
     "data": {
      "image/png": "[encoded data removed]",
      "text/plain": [
       "<Figure size 640x480 with 1 Axes>"
      ]
     },
     "metadata": {},
     "output_type": "display_data"
    }
   ],
   "source": [
    "plt.plot(hist.history['loss'], color='teal', label='loss')\n",
    "plt.plot(hist.history['val_loss'], color='orange', label='val loss')\n",
    "plt.suptitle('Loss')\n",
    "plt.legend()\n",
    "plt.show()"
   ]
  },
  {
   "cell_type": "markdown",
   "metadata": {},
   "source": [
    "# Testing"
   ]
  },
  {
   "cell_type": "code",
   "execution_count": 55,
   "metadata": {},
   "outputs": [],
   "source": [
    "test_data = test.as_numpy_iterator()"
   ]
  },
  {
   "cell_type": "code",
   "execution_count": 56,
   "metadata": {},
   "outputs": [],
   "source": [
    "test_sample = test_data.next()"
   ]
  },
  {
   "cell_type": "code",
   "execution_count": 57,
   "metadata": {},
   "outputs": [
    {
     "name": "stdout",
     "output_type": "stream",
     "text": [
      "\u001b[1m1/1\u001b[0m \u001b[32m━━━━━━━━━━━━━━━━━━━━\u001b[0m\u001b[37m\u001b[0m \u001b[1m11s\u001b[0m 11s/step\n"
     ]
    }
   ],
   "source": [
    "yhat = model.predict(test_sample[0])"
   ]
  },
  {
   "cell_type": "code",
   "execution_count": 79,
   "metadata": {},
   "outputs": [
    {
     "data": {
      "text/plain": [
       "array([[[[0.83639216, 0.9548235 , 0.97411764],\n",
       "         [0.8106667 , 0.9270588 , 0.96423525],\n",
       "         [0.75529414, 0.8690196 , 0.9239216 ],\n",
       "         ...,\n",
       "         [0.587451  , 0.5992157 , 0.5717647 ],\n",
       "         [0.579451  , 0.5888628 , 0.5661177 ],\n",
       "         [0.5866667 , 0.5905883 , 0.56517655]],\n",
       "\n",
       "        [[0.89239216, 0.99717647, 0.9990588 ],\n",
       "         [0.86792153, 0.9764706 , 0.9934118 ],\n",
       "         [0.81647056, 0.9254902 , 0.96549016],\n",
       "         ...,\n",
       "         [0.6133333 , 0.61803925, 0.58431375],\n",
       "         [0.5797649 , 0.5915296 , 0.5549806 ],\n",
       "         [0.5858823 , 0.5924705 , 0.5530982 ]],\n",
       "\n",
       "        [[0.9192157 , 0.99764705, 0.9937255 ],\n",
       "         [0.90588236, 0.99058825, 0.99529415],\n",
       "         [0.8862745 , 0.9843137 , 1.        ],\n",
       "         ...,\n",
       "         [0.62352943, 0.6313726 , 0.5803922 ],\n",
       "         [0.58823556, 0.5960787 , 0.546667  ],\n",
       "         [0.5921569 , 0.5921569 , 0.54509807]],\n",
       "\n",
       "        ...,\n",
       "\n",
       "        [[0.7176471 , 0.7372549 , 0.72156864],\n",
       "         [0.7254902 , 0.73333335, 0.72156864],\n",
       "         [0.7294118 , 0.7372549 , 0.73333335],\n",
       "         ...,\n",
       "         [0.627451  , 0.6313726 , 0.60784316],\n",
       "         [0.6243138 , 0.62823534, 0.6047059 ],\n",
       "         [0.627451  , 0.6313726 , 0.6       ]],\n",
       "\n",
       "        [[0.7140392 , 0.7369412 , 0.7137256 ],\n",
       "         [0.7240784 , 0.74509805, 0.72439224],\n",
       "         [0.7247058 , 0.74509805, 0.7309805 ],\n",
       "         ...,\n",
       "         [0.627451  , 0.6313726 , 0.6117647 ],\n",
       "         [0.62494123, 0.6288628 , 0.6061178 ],\n",
       "         [0.627451  , 0.6313726 , 0.6       ]],\n",
       "\n",
       "        [[0.74290144, 0.7388233 , 0.6961568 ],\n",
       "         [0.742431  , 0.7356862 , 0.7072939 ],\n",
       "         [0.74274474, 0.7317646 , 0.7184312 ],\n",
       "         ...,\n",
       "         [0.6313726 , 0.627451  , 0.60784316],\n",
       "         [0.627451  , 0.62352943, 0.6039216 ],\n",
       "         [0.6313726 , 0.6313726 , 0.6       ]]],\n",
       "\n",
       "\n",
       "       [[[0.9654902 , 0.7968628 , 0.7301961 ],\n",
       "         [0.9607843 , 0.7921569 , 0.7176471 ],\n",
       "         [0.9592157 , 0.79058826, 0.71607846],\n",
       "         ...,\n",
       "         [0.80784315, 0.5882353 , 0.49803922],\n",
       "         [0.80627453, 0.5866667 , 0.49647057],\n",
       "         [0.7984314 , 0.5866667 , 0.492549  ]],\n",
       "\n",
       "        [[0.96517646, 0.796549  , 0.72988236],\n",
       "         [0.9614118 , 0.79278433, 0.71827453],\n",
       "         [0.957647  , 0.7890196 , 0.7145098 ],\n",
       "         ...,\n",
       "         [0.80784315, 0.5882353 , 0.49803922],\n",
       "         [0.80078435, 0.5824314 , 0.49160787],\n",
       "         [0.788863  , 0.58243144, 0.4883138 ]],\n",
       "\n",
       "        [[0.96313727, 0.7945098 , 0.72784317],\n",
       "         [0.96862745, 0.7921569 , 0.7176471 ],\n",
       "         [0.96862745, 0.7921569 , 0.7176471 ],\n",
       "         ...,\n",
       "         [0.80784315, 0.5882353 , 0.49803922],\n",
       "         [0.80078435, 0.5874509 , 0.49411765],\n",
       "         [0.7858825 , 0.5866666 , 0.49019608]],\n",
       "\n",
       "        ...,\n",
       "\n",
       "        [[0.86509806, 0.73176473, 0.7239216 ],\n",
       "         [0.8627451 , 0.7294118 , 0.72156864],\n",
       "         [0.8627451 , 0.7294118 , 0.72156864],\n",
       "         ...,\n",
       "         [0.18039216, 0.24313726, 0.23921569],\n",
       "         [0.1662746 , 0.24392162, 0.23607849],\n",
       "         [0.16470589, 0.23529412, 0.23529412]],\n",
       "\n",
       "        [[0.8690196 , 0.7356863 , 0.73176473],\n",
       "         [0.8627451 , 0.7294118 , 0.7254902 ],\n",
       "         [0.85490197, 0.73333335, 0.7254902 ],\n",
       "         ...,\n",
       "         [0.18352936, 0.24627446, 0.24627446],\n",
       "         [0.17443146, 0.24376473, 0.24376473],\n",
       "         [0.16815685, 0.2387451 , 0.2387451 ]],\n",
       "\n",
       "        [[0.8509804 , 0.7294118 , 0.71294135],\n",
       "         [0.8509804 , 0.7294118 , 0.7176471 ],\n",
       "         [0.85882354, 0.7254902 , 0.72156864],\n",
       "         ...,\n",
       "         [0.18666658, 0.24470598, 0.24705882],\n",
       "         [0.18431373, 0.24705882, 0.24705882],\n",
       "         [0.18196088, 0.24470598, 0.24470598]]],\n",
       "\n",
       "\n",
       "       [[[0.31529412, 0.46431375, 0.50745094],\n",
       "         [0.32188237, 0.47090197, 0.5140392 ],\n",
       "         [0.3254902 , 0.4745098 , 0.5176471 ],\n",
       "         ...,\n",
       "         [0.41019607, 0.3827451 , 0.32      ],\n",
       "         [0.42039207, 0.3929411 , 0.3248626 ],\n",
       "         [0.4282354 , 0.38431382, 0.337255  ]],\n",
       "\n",
       "        [[0.31576473, 0.46478432, 0.51576465],\n",
       "         [0.32235292, 0.47137254, 0.5145098 ],\n",
       "         [0.32941177, 0.47843137, 0.52156866],\n",
       "         ...,\n",
       "         [0.40313727, 0.3756863 , 0.3129412 ],\n",
       "         [0.41019604, 0.38274506, 0.31999996],\n",
       "         [0.41411763, 0.3827451 , 0.3317647 ]],\n",
       "\n",
       "        [[0.32156864, 0.47843137, 0.5254902 ],\n",
       "         [0.32156864, 0.47843137, 0.5254902 ],\n",
       "         [0.3254902 , 0.48235294, 0.5294118 ],\n",
       "         ...,\n",
       "         [0.39607844, 0.3647059 , 0.3137255 ],\n",
       "         [0.40392157, 0.37254903, 0.32156864],\n",
       "         [0.4       , 0.3764706 , 0.32156864]],\n",
       "\n",
       "        ...,\n",
       "\n",
       "        [[0.3254902 , 0.4862745 , 0.5019608 ],\n",
       "         [0.32156864, 0.48235294, 0.49803922],\n",
       "         [0.3254902 , 0.4862745 , 0.5019608 ],\n",
       "         ...,\n",
       "         [0.4117647 , 0.57254905, 0.5803922 ],\n",
       "         [0.40392157, 0.5764706 , 0.5882353 ],\n",
       "         [0.4       , 0.57254905, 0.5764706 ]],\n",
       "\n",
       "        [[0.32235298, 0.4831373 , 0.49882358],\n",
       "         [0.3247059 , 0.4854902 , 0.5011765 ],\n",
       "         [0.32235298, 0.4831373 , 0.49882358],\n",
       "         ...,\n",
       "         [0.40705878, 0.5796078 , 0.58352935],\n",
       "         [0.40392157, 0.5764706 , 0.5803922 ],\n",
       "         [0.4031372 , 0.5756862 , 0.5796078 ]],\n",
       "\n",
       "        [[0.32156864, 0.48235294, 0.49803922],\n",
       "         [0.3254902 , 0.4862745 , 0.49411765],\n",
       "         [0.32156864, 0.48470578, 0.48549038],\n",
       "         ...,\n",
       "         [0.40392157, 0.58431375, 0.5764706 ],\n",
       "         [0.3968628 , 0.57725495, 0.5694118 ],\n",
       "         [0.39764714, 0.57019615, 0.5662746 ]]],\n",
       "\n",
       "\n",
       "       ...,\n",
       "\n",
       "\n",
       "       [[[0.5105883 , 0.30666664, 0.2243137 ],\n",
       "         [0.5035294 , 0.29960784, 0.21725489],\n",
       "         [0.50039214, 0.292549  , 0.22196078],\n",
       "         ...,\n",
       "         [0.5090196 , 0.34039217, 0.2737255 ],\n",
       "         [0.4892551 , 0.3403921 , 0.27388227],\n",
       "         [0.44690236, 0.33411774, 0.2938039 ]],\n",
       "\n",
       "        [[0.5124706 , 0.30854902, 0.22227451],\n",
       "         [0.50603926, 0.30211765, 0.21976471],\n",
       "         [0.5027451 , 0.2988235 , 0.21647058],\n",
       "         ...,\n",
       "         [0.51921564, 0.3482353 , 0.28235295],\n",
       "         [0.49960804, 0.3418039 , 0.27466667],\n",
       "         [0.46996123, 0.34713733, 0.2889412 ]],\n",
       "\n",
       "        [[0.50980395, 0.30588236, 0.21960784],\n",
       "         [0.5019608 , 0.30588236, 0.21568628],\n",
       "         [0.5019608 , 0.3019608 , 0.21960784],\n",
       "         ...,\n",
       "         [0.5294118 , 0.3529412 , 0.2784314 ],\n",
       "         [0.51921576, 0.34901962, 0.28078422],\n",
       "         [0.4972551 , 0.35686275, 0.28392166]],\n",
       "\n",
       "        ...,\n",
       "\n",
       "        [[0.40784314, 0.40784314, 0.40784314],\n",
       "         [0.40784314, 0.40784314, 0.40784314],\n",
       "         [0.40784314, 0.40784314, 0.40784314],\n",
       "         ...,\n",
       "         [0.4117647 , 0.22745098, 0.20392157],\n",
       "         [0.4117647 , 0.22745098, 0.20392157],\n",
       "         [0.40392157, 0.22745098, 0.20392157]],\n",
       "\n",
       "        [[0.40941176, 0.40941176, 0.40941176],\n",
       "         [0.4155294 , 0.4155294 , 0.42337254],\n",
       "         [0.40784314, 0.40784314, 0.41568628],\n",
       "         ...,\n",
       "         [0.40235308, 0.22352941, 0.20470592],\n",
       "         [0.4028237 , 0.22352941, 0.2       ],\n",
       "         [0.3968628 , 0.2203922 , 0.20078436]],\n",
       "\n",
       "        [[0.4117647 , 0.4117647 , 0.41960785],\n",
       "         [0.41537255, 0.41537255, 0.4232157 ],\n",
       "         [0.4117647 , 0.4117647 , 0.41960785],\n",
       "         ...,\n",
       "         [0.39764714, 0.2290197 , 0.20549029],\n",
       "         [0.39450994, 0.22274505, 0.20078436],\n",
       "         [0.39607844, 0.21960784, 0.2       ]]],\n",
       "\n",
       "\n",
       "       [[[0.25552943, 0.36141178, 0.3339608 ],\n",
       "         [0.25364706, 0.3595294 , 0.33207843],\n",
       "         [0.2509804 , 0.35686275, 0.32941177],\n",
       "         ...,\n",
       "         [0.08      , 0.3035294 , 0.22901961],\n",
       "         [0.0889411 , 0.32031363, 0.24188228],\n",
       "         [0.09019608, 0.33333334, 0.24313726]],\n",
       "\n",
       "        [[0.24784315, 0.36549023, 0.33411765],\n",
       "         [0.24941176, 0.36705884, 0.3356863 ],\n",
       "         [0.24235293, 0.36      , 0.32862747],\n",
       "         ...,\n",
       "         [0.08235294, 0.30588236, 0.23137255],\n",
       "         [0.08784309, 0.31921563, 0.23952939],\n",
       "         [0.09176471, 0.32580385, 0.23152956]],\n",
       "\n",
       "        [[0.23686275, 0.3545098 , 0.31529412],\n",
       "         [0.23921569, 0.35686275, 0.31764707],\n",
       "         [0.23529412, 0.3529412 , 0.3137255 ],\n",
       "         ...,\n",
       "         [0.07843138, 0.30588236, 0.21960784],\n",
       "         [0.07450981, 0.30588236, 0.21960784],\n",
       "         [0.07843138, 0.30588236, 0.21176471]],\n",
       "\n",
       "        ...,\n",
       "\n",
       "        [[0.4572549 , 0.55215687, 0.47921568],\n",
       "         [0.50509804, 0.56705886, 0.4972549 ],\n",
       "         [0.58431375, 0.6       , 0.5411765 ],\n",
       "         ...,\n",
       "         [0.5803922 , 0.52156866, 0.36078432],\n",
       "         [0.5764706 , 0.5254902 , 0.36078432],\n",
       "         [0.5741177 , 0.5294118 , 0.35764736]],\n",
       "\n",
       "        [[0.56125414, 0.6216466 , 0.54180354],\n",
       "         [0.6260385 , 0.65992105, 0.57819563],\n",
       "         [0.6839209 , 0.6784309 , 0.59843105],\n",
       "         ...,\n",
       "         [0.5764706 , 0.52156866, 0.36862746],\n",
       "         [0.57019615, 0.5152942 , 0.36862746],\n",
       "         [0.57254905, 0.5181176 , 0.3662746 ]],\n",
       "\n",
       "        [[0.6360779 , 0.6542743 , 0.5656468 ],\n",
       "         [0.65960747, 0.6602351 , 0.5681569 ],\n",
       "         [0.68862736, 0.66509795, 0.5709803 ],\n",
       "         ...,\n",
       "         [0.5803922 , 0.5176471 , 0.3764706 ],\n",
       "         [0.5756862 , 0.52078426, 0.38352937],\n",
       "         [0.56956863, 0.51952946, 0.37945095]]],\n",
       "\n",
       "\n",
       "       [[[0.6989804 , 0.6784314 , 0.4509804 ],\n",
       "         [0.7035294 , 0.68235296, 0.45490196],\n",
       "         [0.7082353 , 0.68078434, 0.46509802],\n",
       "         ...,\n",
       "         [0.5898039 , 0.49960786, 0.57019603],\n",
       "         [0.59372544, 0.4956863 , 0.57019603],\n",
       "         [0.59607846, 0.49803922, 0.5803922 ]],\n",
       "\n",
       "        [[0.71168625, 0.6801569 , 0.45537257],\n",
       "         [0.7137255 , 0.6784314 , 0.45490196],\n",
       "         [0.7137255 , 0.6784314 , 0.45490196],\n",
       "         ...,\n",
       "         [0.5921569 , 0.5019608 , 0.5647059 ],\n",
       "         [0.59686273, 0.49882352, 0.5733333 ],\n",
       "         [0.59607846, 0.5058824 , 0.57552946]],\n",
       "\n",
       "        [[0.72156864, 0.6784314 , 0.45882353],\n",
       "         [0.72156864, 0.6784314 , 0.45882353],\n",
       "         [0.72156864, 0.6784314 , 0.46666667],\n",
       "         ...,\n",
       "         [0.59607846, 0.5058824 , 0.5686275 ],\n",
       "         [0.59607846, 0.5058824 , 0.5686275 ],\n",
       "         [0.59607846, 0.5082352 , 0.56392175]],\n",
       "\n",
       "        ...,\n",
       "\n",
       "        [[0.95372546, 0.89490193, 0.5772549 ],\n",
       "         [0.9490196 , 0.88235295, 0.5686275 ],\n",
       "         [0.9529412 , 0.8862745 , 0.5647059 ],\n",
       "         ...,\n",
       "         [0.7764706 , 0.7137255 , 0.75686276],\n",
       "         [0.7733334 , 0.7105883 , 0.7537255 ],\n",
       "         [0.7647059 , 0.7019608 , 0.74509805]],\n",
       "\n",
       "        [[0.9471373 , 0.8843922 , 0.5785098 ],\n",
       "         [0.94839215, 0.8895686 , 0.5719215 ],\n",
       "         [0.9560784 , 0.8894117 , 0.5756862 ],\n",
       "         ...,\n",
       "         [0.7764706 , 0.7137255 , 0.75686276],\n",
       "         [0.7739608 , 0.71121573, 0.754353  ],\n",
       "         [0.7698824 , 0.7032157 , 0.7424314 ]],\n",
       "\n",
       "        [[0.9505882 , 0.88392156, 0.57803917],\n",
       "         [0.9458823 , 0.8831372 , 0.5772549 ],\n",
       "         [0.94509804, 0.8862745 , 0.5686275 ],\n",
       "         ...,\n",
       "         [0.77254903, 0.70980394, 0.7529412 ],\n",
       "         [0.76862746, 0.7058824 , 0.7490196 ],\n",
       "         [0.7678433 , 0.6972551 , 0.7443139 ]]]], dtype=float32)"
      ]
     },
     "execution_count": 79,
     "metadata": {},
     "output_type": "execute_result"
    }
   ],
   "source": [
    "test_sample[0]"
   ]
  },
  {
   "cell_type": "code",
   "execution_count": 82,
   "metadata": {},
   "outputs": [
    {
     "data": {
      "text/plain": [
       "array([[-15.836633  ,   2.5753198 ,  18.563124  ,   1.129812  ],\n",
       "       [-17.110004  ,   1.7653855 ,  20.134602  ,   2.2607226 ],\n",
       "       [ -8.126088  ,   0.6319132 ,   9.794233  ,   0.78588825],\n",
       "       [-13.155957  ,   2.5978758 ,  16.194801  ,   1.2772956 ],\n",
       "       [-11.079508  ,   1.8735106 ,  13.379428  ,   1.5378115 ],\n",
       "       [ -6.6900697 ,   0.94070405,   8.133495  ,   0.6521421 ],\n",
       "       [ -9.60805   ,   1.44087   ,  11.7054    ,   0.468299  ],\n",
       "       [ -7.235677  ,   0.869883  ,   8.631536  ,   0.8472059 ],\n",
       "       [-16.267382  ,   1.4557097 ,  18.547573  ,   1.4734707 ],\n",
       "       [ -8.065392  ,   1.5452571 ,   9.957721  ,   1.2710874 ],\n",
       "       [-13.990361  ,   1.4152939 ,  16.556711  ,   1.2052402 ],\n",
       "       [-16.197208  ,   2.3281033 ,  17.856867  ,   1.769557  ],\n",
       "       [-17.190329  ,   3.1733398 ,  20.432632  ,   3.2196841 ],\n",
       "       [ -6.494729  ,   0.88709724,   8.043277  ,   0.632912  ],\n",
       "       [-11.336068  ,   1.2020015 ,  12.33079   ,   1.0732408 ],\n",
       "       [-15.554756  ,   3.055223  ,  19.678534  ,   2.0764537 ]],\n",
       "      dtype=float32)"
      ]
     },
     "execution_count": 82,
     "metadata": {},
     "output_type": "execute_result"
    }
   ],
   "source": [
    "yhat"
   ]
  },
  {
   "cell_type": "markdown",
   "metadata": {},
   "source": [
    "# Realtime Detection"
   ]
  },
  {
   "cell_type": "code",
   "execution_count": null,
   "metadata": {},
   "outputs": [],
   "source": [
    "cap = cv2.VideoCapture(0)\n",
    "while cap.isOpened():\n",
    "    _ , frame = cap.read()\n",
    "    \n",
    "    frame = frame[50:500,50:500,:] \n",
    "    rgb_img = cv2.cvtColor(frame, cv2.COLOR_BGR2RGB)\n",
    "    resized = cv2.resize(rgb_img, (250,250))\n",
    "    \n",
    "    yhat = model.predict(np.expand_dims(resized/255,0))\n",
    "    sample_coords = yhat[0,:4]\n",
    "    \n",
    "    cv2.circle(frame, tuple(np.multiply(sample_coords[:2], [450,450]).astype(int)), 2, (255,0,0), -1)\n",
    "    cv2.circle(frame, tuple(np.multiply(sample_coords[2:], [450,450]).astype(int)), 2, (0,255,0), -1)\n",
    "    \n",
    "    cv2.imshow('EyeTrack', frame)\n",
    "    \n",
    "    if cv2.waitKey(1) & 0xFF == ord('q'):\n",
    "        break\n",
    "cap.release()\n",
    "cv2.destroyAllWindows()"
   ]
  }
 ],
 "metadata": {
  "kernelspec": {
   "display_name": ".venv",
   "language": "python",
   "name": "python3"
  },
  "language_info": {
   "codemirror_mode": {
    "name": "ipython",
    "version": 3
   },
   "file_extension": ".py",
   "mimetype": "text/x-python",
   "name": "python",
   "nbconvert_exporter": "python",
   "pygments_lexer": "ipython3",
   "version": "3.12.1"
  }
 },
 "nbformat": 4,
 "nbformat_minor": 2
}
